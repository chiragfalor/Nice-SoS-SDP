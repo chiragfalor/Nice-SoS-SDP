{
 "cells": [
  {
   "cell_type": "code",
   "execution_count": 1,
   "metadata": {},
   "outputs": [],
   "source": [
    "from main import get_SoS"
   ]
  },
  {
   "cell_type": "code",
   "execution_count": 2,
   "metadata": {},
   "outputs": [
    {
     "name": "stderr",
     "output_type": "stream",
     "text": [
      "WARNING: using JuMP.@variables in module Main conflicts with an existing identifier.\n"
     ]
    },
    {
     "name": "stdout",
     "output_type": "stream",
     "text": [
      "------------------------------------------------------------------\n",
      "\t       SCS v3.2.6 - Splitting Conic Solver\n",
      "\t(c) Brendan O'Donoghue, Stanford University, 2012\n",
      "------------------------------------------------------------------\n",
      "problem:  variables n: 40, constraints m: 121\n",
      "cones: \t  z: primal zero / dual free vars: 66\n",
      "\t  s: psd vars: 55, ssize: 1\n",
      "settings: eps_abs: 1.0e-10, eps_rel: 1.0e-10, eps_infeas: 1.0e-10\n",
      "\t  alpha: 1.50, scale: 1.00e-01, adaptive_scale: 1\n",
      "\t  max_iters: 100000, normalize: 1, rho_x: 1.00e-06\n",
      "\t  acceleration_lookback: 10, acceleration_interval: 10\n",
      "\t  compiled with openmp parallelization enabled\n",
      "lin-sys:  sparse-direct-amd-qdldl\n",
      "\t  nnz(A): 159, nnz(P): 0\n",
      "------------------------------------------------------------------\n",
      " iter | pri res | dua res |   gap   |   obj   |  scale  | time (s)\n",
      "------------------------------------------------------------------\n",
      "     0| 1.33e+01  1.00e+00  6.70e+01 -3.29e+01  1.00e-01  5.52e-02 \n",
      "    75| 6.20e-15  4.20e-15  7.55e-15  2.83e+00  1.00e-01  1.41e-01 \n",
      "------------------------------------------------------------------\n",
      "status:  solved\n",
      "timings: total: 1.41e-01s = setup: 1.66e-02s + solve: 1.24e-01s\n",
      "\t lin-sys: 4.76e-03s, cones: 4.68e-02s, accel: 3.15e-04s\n",
      "------------------------------------------------------------------\n",
      "objective = 2.828427\n",
      "------------------------------------------------------------------\n",
      "Matrix([[0.707106781186554, 0, -1/2, -1/2, 0], [0, 0.707106781186550, -1/2, 1/2, 0], [-1/2, -1/2, 0.707106781186558, 0, 0], [-1/2, 1/2, 0, 0.707106781186551, 0], [0, 0, 0, 0, 0]]) Matrix([[A0], [A1], [B0], [B1], [1]]) Matrix([[adjoint(A0), adjoint(A1), adjoint(B0), adjoint(B1), 1]])\n"
     ]
    }
   ],
   "source": [
    "from src.configs.CHSH import basis, game_poly, degree, rounding_coeff\n",
    "sos, mat, game_value = get_SoS(basis, degree, game_poly, rounding_coeff)"
   ]
  },
  {
   "cell_type": "code",
   "execution_count": 3,
   "metadata": {},
   "outputs": [
    {
     "name": "stdout",
     "output_type": "stream",
     "text": [
      "Game value: 2.82842712474621\n"
     ]
    },
    {
     "data": {
      "text/latex": [
       "$\\left[\\begin{matrix}0.707106781186554 & 0.70710678118655 & 1.45439216225896 \\cdot 10^{-14} & 7.105427357601 \\cdot 10^{-15}\\\\A_{0} - 0.707106781186541 B_{0} - 0.707106781186541 B_{1} & A_{1} - 0.707106781186545 B_{0} + 0.707106781186545 B_{1} & B_{0} + 0.145038167938931 B_{1} & B_{1}\\end{matrix}\\right]$"
      ],
      "text/plain": [
       "<src.SoS_utils.SoS.SoS_expr at 0x7f6530b66300>"
      ]
     },
     "metadata": {},
     "output_type": "display_data"
    },
    {
     "data": {
      "text/latex": [
       "$\\displaystyle 2.82842712474621 - 1.0 A_{0} B_{0} - 1.0 A_{0} B_{1} - 1.0 A_{1} B_{0} + 1.0 A_{1} B_{1}$"
      ],
      "text/plain": [
       "2.82842712474621 - 1.0*A0*B0 - 1.0*A0*B1 - 1.0*A1*B0 + 1.0*A1*B1"
      ]
     },
     "metadata": {},
     "output_type": "display_data"
    }
   ],
   "source": [
    "print(f\"Game value: {game_value}\")\n",
    "display(sos)\n",
    "display(sos.simplification)"
   ]
  },
  {
   "cell_type": "code",
   "execution_count": 4,
   "metadata": {},
   "outputs": [
    {
     "name": "stderr",
     "output_type": "stream",
     "text": [
      "WARNING: using JuMP.@variables in module Main conflicts with an existing identifier.\n"
     ]
    },
    {
     "name": "stdout",
     "output_type": "stream",
     "text": [
      "------------------------------------------------------------------\n",
      "\t       SCS v3.2.6 - Splitting Conic Solver\n",
      "\t(c) Brendan O'Donoghue, Stanford University, 2012\n",
      "------------------------------------------------------------------\n",
      "problem:  variables n: 77, constraints m: 238\n",
      "cones: \t  z: primal zero / dual free vars: 133\n",
      "\t  s: psd vars: 105, ssize: 1\n",
      "settings: eps_abs: 1.0e-10, eps_rel: 1.0e-10, eps_infeas: 1.0e-10\n",
      "\t  alpha: 1.50, scale: 1.00e-01, adaptive_scale: 1\n",
      "\t  max_iters: 100000, normalize: 1, rho_x: 1.00e-06\n",
      "\t  acceleration_lookback: 10, acceleration_interval: 10\n",
      "\t  compiled with openmp parallelization enabled\n",
      "lin-sys:  sparse-direct-amd-qdldl\n",
      "\t  nnz(A): 316, nnz(P): 0\n",
      "------------------------------------------------------------------\n",
      " iter | pri res | dua res |   gap   |   obj   |  scale  | time (s)\n",
      "------------------------------------------------------------------\n",
      "     0| 1.33e+01  1.00e+00  9.48e+01 -4.60e+01  1.00e-01  1.96e-02 \n",
      "   150| 4.87e-11  1.07e-11  3.11e-14  6.00e+00  4.47e-01  3.10e-02 \n",
      "------------------------------------------------------------------\n",
      "status:  solved\n",
      "timings: total: 3.10e-02s = setup: 3.47e-04s + solve: 3.07e-02s\n",
      "\t lin-sys: 9.24e-04s, cones: 1.03e-02s, accel: 5.35e-05s\n",
      "------------------------------------------------------------------\n",
      "objective = 6.000000\n",
      "------------------------------------------------------------------\n",
      "Matrix([[1, 0, 0, -1/2, 1/2, 1/2, 0], [0, 1, 0, 1/2, -1/2, 1/2, 0], [0, 0, 1, 1/2, 1/2, -1/2, 0], [-1/2, 1/2, 1/2, 1, 0, 0, 0], [1/2, -1/2, 1/2, 0, 1, 0, 0], [1/2, 1/2, -1/2, 0, 0, 1, 0], [0, 0, 0, 0, 0, 0, 0]]) Matrix([[A0], [A1], [A2], [B0], [B1], [B2], [1]]) Matrix([[adjoint(A0), adjoint(A1), adjoint(A2), adjoint(B0), adjoint(B1), adjoint(B2), 1]])\n"
     ]
    }
   ],
   "source": [
    "from src.configs.bipartite_matching import basis, game_poly, degree, rounding_coeff\n",
    "sos, mat, game_value = get_SoS(basis, degree, game_poly, rounding_coeff=rounding_coeff, dump_folder='src/shared_data')"
   ]
  },
  {
   "cell_type": "code",
   "execution_count": 5,
   "metadata": {},
   "outputs": [
    {
     "name": "stdout",
     "output_type": "stream",
     "text": [
      "Game value: 6\n"
     ]
    },
    {
     "data": {
      "text/latex": [
       "$\\left[\\begin{matrix}1 & 1 & 1 & \\frac{1}{4}\\\\A_{0} - \\frac{B_{0}}{2} + \\frac{B_{1}}{2} + \\frac{B_{2}}{2} & A_{1} + \\frac{B_{0}}{2} - \\frac{B_{1}}{2} + \\frac{B_{2}}{2} & A_{2} + \\frac{B_{0}}{2} + \\frac{B_{1}}{2} - \\frac{B_{2}}{2} & B_{0} + B_{1} + B_{2}\\end{matrix}\\right]$"
      ],
      "text/plain": [
       "<src.SoS_utils.SoS.SoS_expr at 0x7f653088cda0>"
      ]
     },
     "metadata": {},
     "output_type": "display_data"
    },
    {
     "data": {
      "text/latex": [
       "$\\displaystyle 6 - A_{0} B_{0} + A_{0} B_{1} + A_{0} B_{2} + A_{1} B_{0} - A_{1} B_{1} + A_{1} B_{2} + A_{2} B_{0} + A_{2} B_{1} - A_{2} B_{2}$"
      ],
      "text/plain": [
       "6 - A0*B0 + A0*B1 + A0*B2 + A1*B0 - A1*B1 + A1*B2 + A2*B0 + A2*B1 - A2*B2"
      ]
     },
     "metadata": {},
     "output_type": "display_data"
    }
   ],
   "source": [
    "print(f\"Game value: {game_value}\")\n",
    "display(sos)\n",
    "display(sos.simplification)"
   ]
  },
  {
   "cell_type": "code",
   "execution_count": 6,
   "metadata": {},
   "outputs": [
    {
     "name": "stderr",
     "output_type": "stream",
     "text": [
      "WARNING: using JuMP.@variables in module Main conflicts with an existing identifier.\n"
     ]
    },
    {
     "name": "stdout",
     "output_type": "stream",
     "text": [
      "------------------------------------------------------------------\n",
      "\t       SCS v3.2.6 - Splitting Conic Solver\n",
      "\t(c) Brendan O'Donoghue, Stanford University, 2012\n",
      "------------------------------------------------------------------\n",
      "problem:  variables n: 551, constraints m: 1656\n",
      "cones: \t  z: primal zero / dual free vars: 915\n",
      "\t  s: psd vars: 741, ssize: 1\n",
      "settings: eps_abs: 1.0e-10, eps_rel: 1.0e-10, eps_infeas: 1.0e-10\n",
      "\t  alpha: 1.50, scale: 1.00e-01, adaptive_scale: 1\n",
      "\t  max_iters: 100000, normalize: 1, rho_x: 1.00e-06\n",
      "\t  acceleration_lookback: 10, acceleration_interval: 10\n",
      "\t  compiled with openmp parallelization enabled\n",
      "lin-sys:  sparse-direct-amd-qdldl\n",
      "\t  nnz(A): 2561, nnz(P): 0\n",
      "------------------------------------------------------------------\n",
      " iter | pri res | dua res |   gap   |   obj   |  scale  | time (s)\n",
      "------------------------------------------------------------------\n",
      "     0| 1.41e+01  1.00e+00  2.68e+02 -1.34e+02  1.00e-01  4.54e-02 \n",
      "   250| 1.24e-03  9.75e-06  1.21e-05  6.00e+00  3.56e-01  1.73e-01 \n",
      "   500| 4.24e-06  1.56e-04  8.71e-05  6.00e+00  2.20e+00  2.97e-01 \n",
      "   725| 2.31e-10  1.13e-10  4.58e-13  6.00e+00  2.20e+00  4.00e-01 \n",
      "------------------------------------------------------------------\n",
      "status:  solved\n",
      "timings: total: 4.00e-01s = setup: 1.74e-03s + solve: 3.98e-01s\n",
      "\t lin-sys: 4.33e-02s, cones: 2.24e-01s, accel: 1.42e-02s\n",
      "------------------------------------------------------------------\n",
      "objective = 6.000000\n",
      "------------------------------------------------------------------\n",
      "Matrix([[5/13, 0, -115/416 + 5*sqrt(3)*I/96, -115/416 - 5*sqrt(3)*I/96, 5/208 + 5*sqrt(3)*I/312, 5/208 - 5*sqrt(3)*I/312, 0, 0, 0, 0, 0, 0, 0, 0, 0, 0, 0, 0, 0], [0, 5/13, -115/416 - 5*sqrt(3)*I/96, 45/208 + 35*sqrt(3)*I/312, 5/416 + 25*sqrt(3)*I/1248, -15/416 + 5*sqrt(3)*I/1248, 0, 0, 0, 0, 0, 0, 0, 0, 0, 0, 0, 0, 0], [-115/416 - 5*sqrt(3)*I/96, -115/416 + 5*sqrt(3)*I/96, 275/624, -5/208 + 5*sqrt(3)*I/208, -35/1248 - 35*sqrt(3)*I/1248, 0, 0, 0, 0, 0, 0, 0, 0, 0, 0, 0, 0, 0, 0], [-115/416 + 5*sqrt(3)*I/96, 45/208 - 35*sqrt(3)*I/312, -5/208 - 5*sqrt(3)*I/208, 275/624, 0, -35/1248 + 35*sqrt(3)*I/1248, 0, 0, 0, 0, 0, 0, 0, 0, 0, 0, 0, 0, 0], [5/208 - 5*sqrt(3)*I/312, 5/416 - 25*sqrt(3)*I/1248, -35/1248 + 35*sqrt(3)*I/1248, 0, 5/624, 0, 0, 0, 0, 0, 0, 0, 0, 0, 0, 0, 0, 0, 0], [5/208 + 5*sqrt(3)*I/312, -15/416 - 5*sqrt(3)*I/1248, 0, -35/1248 - 35*sqrt(3)*I/1248, 0, 5/624, 0, 0, 0, 0, 0, 0, 0, 0, 0, 0, 0, 0, 0], [0, 0, 0, 0, 0, 0, 0, 0, 0, 0, 0, 0, 0, 0, 0, 0, 0, 0, 0], [0, 0, 0, 0, 0, 0, 0, 0, 0, 0, 0, 0, 0, 0, 0, 0, 0, 0, 0], [0, 0, 0, 0, 0, 0, 0, 0, 0, 0, 0, 0, 0, 0, 0, 0, 0, 0, 0], [0, 0, 0, 0, 0, 0, 0, 0, 0, 0, 0, 0, 0, 0, 0, 0, 0, 0, 0], [0, 0, 0, 0, 0, 0, 0, 0, 0, 0, 217/624, 395/1248 - 85*sqrt(3)*I/1248, 3/416 + 5*sqrt(3)*I/96, -5/208 - 5*sqrt(3)*I/312, 0, 0, 0, 0, -101/208 + 5*sqrt(3)*I/208], [0, 0, 0, 0, 0, 0, 0, 0, 0, 0, 395/1248 + 85*sqrt(3)*I/1248, 217/624, -5/208 + 5*sqrt(3)*I/312, 3/416 - 5*sqrt(3)*I/96, 0, 0, 0, 0, -101/208 - 5*sqrt(3)*I/208], [0, 0, 0, 0, 0, 0, 0, 0, 0, 0, 3/416 - 5*sqrt(3)*I/96, -5/208 - 5*sqrt(3)*I/312, 3/16, 5/32 + 15*sqrt(3)*I/416, 0, 0, 0, 0, -51/208 + 5*sqrt(3)*I/208], [0, 0, 0, 0, 0, 0, 0, 0, 0, 0, -5/208 + 5*sqrt(3)*I/312, 3/416 + 5*sqrt(3)*I/96, 5/32 - 15*sqrt(3)*I/416, 3/16, 0, 0, 0, 0, -51/208 - 5*sqrt(3)*I/208], [0, 0, 0, 0, 0, 0, 0, 0, 0, 0, 0, 0, 0, 0, 217/624, -25/96 + 155*sqrt(3)*I/1248, 3/416 - 5*sqrt(3)*I/96, 15/416 + 5*sqrt(3)*I/1248, -101/208 - 5*sqrt(3)*I/208], [0, 0, 0, 0, 0, 0, 0, 0, 0, 0, 0, 0, 0, 0, -25/96 - 155*sqrt(3)*I/1248, 217/624, -5/416 + 25*sqrt(3)*I/1248, -17/208 - 7*sqrt(3)*I/312, 29/104 + 3*sqrt(3)*I/13], [0, 0, 0, 0, 0, 0, 0, 0, 0, 0, 0, 0, 0, 0, 3/416 + 5*sqrt(3)*I/96, -5/416 - 25*sqrt(3)*I/1248, 3/16, -55/416 - 25*sqrt(3)*I/416, -51/208 - 5*sqrt(3)*I/208], [0, 0, 0, 0, 0, 0, 0, 0, 0, 0, 0, 0, 0, 0, 15/416 - 5*sqrt(3)*I/1248, -17/208 + 7*sqrt(3)*I/312, -55/416 + 25*sqrt(3)*I/416, 3/16, 9/104 - 7*sqrt(3)*I/52], [0, 0, 0, 0, 0, 0, 0, 0, 0, 0, -101/208 - 5*sqrt(3)*I/208, -101/208 + 5*sqrt(3)*I/208, -51/208 - 5*sqrt(3)*I/208, -51/208 + 5*sqrt(3)*I/208, -101/208 + 5*sqrt(3)*I/208, 29/104 - 3*sqrt(3)*I/13, -51/208 + 5*sqrt(3)*I/208, 9/104 + 7*sqrt(3)*I/52, 57/26]]) Matrix([[A0], [A1], [B0**2], [B1**2], [B0*B1], [B1*B0], [A0**2], [A1**2], [B0], [B1], [A0*B0], [A0*B1], [A0**2*B0**2], [A0**2*B1**2], [A1*B0], [A1*B1], [A1**2*B0**2], [A1**2*B1**2], [1]]) Matrix([[adjoint(A0), adjoint(A1), adjoint(B0)**2, adjoint(B1)**2, adjoint(B1)*adjoint(B0), adjoint(B0)*adjoint(B1), adjoint(A0)**2, adjoint(A1)**2, adjoint(B0), adjoint(B1), adjoint(B0)*adjoint(A0), adjoint(B1)*adjoint(A0), adjoint(B0)**2*adjoint(A0)**2, adjoint(B1)**2*adjoint(A0)**2, adjoint(B0)*adjoint(A1), adjoint(B1)*adjoint(A1), adjoint(B0)**2*adjoint(A1)**2, adjoint(B1)**2*adjoint(A1)**2, 1]])\n"
     ]
    }
   ],
   "source": [
    "from src.configs.B3 import basis, game_poly, degree, rounding_coeff\n",
    "sos, mat, game_value = get_SoS(basis, degree, game_poly, rounding_coeff=rounding_coeff, dump_folder='src/shared_data')"
   ]
  },
  {
   "cell_type": "code",
   "execution_count": 7,
   "metadata": {},
   "outputs": [
    {
     "name": "stdout",
     "output_type": "stream",
     "text": [
      "Game value: 6\n"
     ]
    },
    {
     "data": {
      "text/latex": [
       "$\\left[\\begin{matrix}\\frac{5}{13} & \\frac{5}{13} & \\frac{5}{4992} & \\frac{217}{624} & \\frac{111}{5642} & \\frac{217}{624} & \\frac{111}{5642}\\\\A_{0} + \\left(\\frac{1}{16} + \\frac{\\sqrt{3} i}{24}\\right) B_{0} B_{1} + \\left(- \\frac{23}{32} + \\frac{13 \\sqrt{3} i}{96}\\right) B_{0}^{2} + \\left(\\frac{1}{16} - \\frac{\\sqrt{3} i}{24}\\right) B_{1} B_{0} + \\left(- \\frac{23}{32} - \\frac{13 \\sqrt{3} i}{96}\\right) B_{1}^{2} & A_{1} + \\left(\\frac{1}{32} + \\frac{5 \\sqrt{3} i}{96}\\right) B_{0} B_{1} + \\left(- \\frac{23}{32} - \\frac{13 \\sqrt{3} i}{96}\\right) B_{0}^{2} + \\left(- \\frac{3}{32} + \\frac{\\sqrt{3} i}{96}\\right) B_{1} B_{0} + \\left(\\frac{9}{16} + \\frac{7 \\sqrt{3} i}{24}\\right) B_{1}^{2} & \\left(- \\frac{1}{2} - \\frac{\\sqrt{3} i}{2}\\right) B_{0} B_{1} + B_{0}^{2} + \\left(- \\frac{1}{2} - \\frac{\\sqrt{3} i}{2}\\right) B_{1} B_{0} + \\left(- \\frac{1}{2} + \\frac{\\sqrt{3} i}{2}\\right) B_{1}^{2} & - \\frac{303}{217} + \\frac{15 \\sqrt{3} i}{217} + A_{0} B_{0} + \\left(\\frac{395}{434} - \\frac{85 \\sqrt{3} i}{434}\\right) A_{0} B_{1} + \\left(\\frac{9}{434} + \\frac{65 \\sqrt{3} i}{434}\\right) A_{0}^{2} B_{0}^{2} + \\left(- \\frac{15}{217} - \\frac{10 \\sqrt{3} i}{217}\\right) A_{0}^{2} B_{1}^{2} & - \\frac{3}{2} + \\frac{5 \\sqrt{3} i}{2} + A_{0} B_{1} - \\frac{5 \\sqrt{3} i A_{0}^{2} B_{0}^{2}}{3} + \\left(1 - \\frac{5 \\sqrt{3} i}{3}\\right) A_{0}^{2} B_{1}^{2} & - \\frac{303}{217} - \\frac{15 \\sqrt{3} i}{217} + A_{1} B_{0} + \\left(- \\frac{325}{434} + \\frac{5 \\sqrt{3} i}{14}\\right) A_{1} B_{1} + \\left(\\frac{9}{434} - \\frac{65 \\sqrt{3} i}{434}\\right) A_{1}^{2} B_{0}^{2} + \\left(\\frac{45}{434} + \\frac{5 \\sqrt{3} i}{434}\\right) A_{1}^{2} B_{1}^{2} & -3 + 2 \\sqrt{3} i + A_{1} B_{1} + \\left(\\frac{5}{2} - \\frac{5 \\sqrt{3} i}{6}\\right) A_{1}^{2} B_{0}^{2} + \\left(-3 - \\frac{\\sqrt{3} i}{3}\\right) A_{1}^{2} B_{1}^{2}\\end{matrix}\\right]$"
      ],
      "text/plain": [
       "<src.SoS_utils.SoS.SoS_expr at 0x7f65303d7980>"
      ]
     },
     "metadata": {},
     "output_type": "display_data"
    },
    {
     "data": {
      "text/latex": [
       "$\\displaystyle 6 - A_{0} B_{0} - A_{0} B_{1} - A_{0}^{2} B_{0}^{2} - A_{0}^{2} B_{1}^{2} - A_{1} B_{0} + \\frac{A_{1} B_{1}}{2} - \\frac{\\sqrt{3} i A_{1} B_{1}}{2} - A_{1}^{2} B_{0}^{2} + \\frac{A_{1}^{2} B_{1}^{2}}{2} + \\frac{\\sqrt{3} i A_{1}^{2} B_{1}^{2}}{2}$"
      ],
      "text/plain": [
       "6 - A0*B0 - A0*B1 - A0**2*B0**2 - A0**2*B1**2 - A1*B0 + A1*B1/2 - sqrt(3)*I*A1*B1/2 - A1**2*B0**2 + A1**2*B1**2/2 + sqrt(3)*I*A1**2*B1**2/2"
      ]
     },
     "metadata": {},
     "output_type": "display_data"
    }
   ],
   "source": [
    "print(f\"Game value: {game_value}\")\n",
    "display(sos)\n",
    "display(sos.simplification)"
   ]
  }
 ],
 "metadata": {
  "kernelspec": {
   "display_name": "env42",
   "language": "python",
   "name": "python3"
  },
  "language_info": {
   "codemirror_mode": {
    "name": "ipython",
    "version": 3
   },
   "file_extension": ".py",
   "mimetype": "text/x-python",
   "name": "python",
   "nbconvert_exporter": "python",
   "pygments_lexer": "ipython3",
   "version": "3.12.2"
  }
 },
 "nbformat": 4,
 "nbformat_minor": 2
}
