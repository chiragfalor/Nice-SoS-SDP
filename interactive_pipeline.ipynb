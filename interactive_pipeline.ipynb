{
 "cells": [
  {
   "cell_type": "code",
   "execution_count": 1,
   "metadata": {},
   "outputs": [],
   "source": [
    "import sympy as sp\n",
    "import numpy as np\n",
    "\n",
    "from src.py_utils.utils import tp, simplify, simplify_basis, simplify_mat, basis_disp\n",
    "from src.py_utils.sos_sdp_maker import get_basis_matrix, get_constraint_tuples, output_julia\n",
    "from src.py_utils.vars import w, i_to_w, w_to_i, A0, A1, B0, B1"
   ]
  },
  {
   "cell_type": "code",
   "execution_count": 2,
   "metadata": {},
   "outputs": [
    {
     "data": {
      "text/latex": [
       "$\\displaystyle \\left[\\begin{matrix}A_{0}\\\\A_{1}\\\\B_{0}^{2}\\\\B_{1}^{2}\\\\B_{0} B_{1}\\\\B_{1} B_{0}\\\\A_{0}^{2}\\\\A_{1}^{2}\\\\B_{0}\\\\B_{1}\\\\A_{0} B_{0}\\\\A_{0} B_{1}\\\\A_{0}^{2} B_{0}^{2}\\\\A_{0}^{2} B_{1}^{2}\\\\A_{1} B_{0}\\\\A_{1} B_{1}\\\\A_{1}^{2} B_{0}^{2}\\\\A_{1}^{2} B_{1}^{2}\\\\1\\end{matrix}\\right]$"
      ],
      "text/plain": [
       "Matrix([\n",
       "[         A0],\n",
       "[         A1],\n",
       "[      B0**2],\n",
       "[      B1**2],\n",
       "[      B0*B1],\n",
       "[      B1*B0],\n",
       "[      A0**2],\n",
       "[      A1**2],\n",
       "[         B0],\n",
       "[         B1],\n",
       "[      A0*B0],\n",
       "[      A0*B1],\n",
       "[A0**2*B0**2],\n",
       "[A0**2*B1**2],\n",
       "[      A1*B0],\n",
       "[      A1*B1],\n",
       "[A1**2*B0**2],\n",
       "[A1**2*B1**2],\n",
       "[          1]])"
      ]
     },
     "execution_count": 2,
     "metadata": {},
     "output_type": "execute_result"
    }
   ],
   "source": [
    "from src.configs.B3 import basis, relations, game_poly, rounding_coeff\n",
    "disp = lambda mat: basis_disp(mat, basis)\n",
    "gp = sum([coeff * sp.expand(var[0] * var[1]) for coeff, var in game_poly])\n",
    "basis_dag = sp.Matrix([O.adjoint() for O in basis]).T\n",
    "basis"
   ]
  },
  {
   "cell_type": "markdown",
   "metadata": {},
   "source": [
    "# Julia intermission"
   ]
  },
  {
   "cell_type": "code",
   "execution_count": 3,
   "metadata": {},
   "outputs": [
    {
     "data": {
      "text/plain": [
       "[[[8, 18], [12, 1], [16, 2], [19, 4], [7, 14], [10, 19], [4, 10], [5, 9]],\n",
       " [[10, 8], [19, 18], [16, 19], [18, 16], [2, 4]],\n",
       " [[7, 3], [6, 12], [3, 11], [9, 1], [1, 13], [11, 7], [13, 9]],\n",
       " [[3, 5], [11, 12], [9, 10], [6, 4], [15, 16]],\n",
       " [[14, 11], [1, 6]],\n",
       " [[13, 1], [3, 7], [7, 11], [12, 6], [9, 13], [1, 9], [11, 3]],\n",
       " [[7, 13], [15, 2], [8, 17], [11, 1], [19, 3], [9, 19], [6, 10], [3, 9]],\n",
       " [[1, 15]],\n",
       " [[12, 15]],\n",
       " [[12, 11], [16, 15], [5, 3], [10, 9], [4, 6]],\n",
       " [[10, 14], [7, 12], [11, 5], [12, 4], [1, 10], [14, 1], [4, 7]],\n",
       " [[16, 8], [18, 10], [8, 4], [2, 18], [5, 15], [10, 2], [4, 16]],\n",
       " [[16, 17], [5, 2]],\n",
       " [[8, 13]],\n",
       " [[13, 11], [1, 3], [19, 13], [9, 7], [11, 19]],\n",
       " [[18, 8], [9, 5], [2, 16], [10, 4], [19, 10], [14, 7], [4, 19], [1, 12]],\n",
       " [[11, 9], [12, 10], [4, 14], [19, 7], [3, 13], [7, 1], [1, 19]],\n",
       " [[4, 2], [16, 18], [8, 10], [19, 16], [18, 19]],\n",
       " [[14, 9], [4, 11], [7, 6]],\n",
       " [[2, 1], [16, 12], [15, 11]],\n",
       " [[5, 8], [10, 17], [16, 3]],\n",
       " [[2, 19], [15, 9], [8, 2], [19, 8], [4, 18], [3, 17], [16, 10]],\n",
       " [[2, 3], [9, 8], [19, 17], [15, 19], [17, 15]],\n",
       " [[12, 5]],\n",
       " [[11, 18]],\n",
       " [[3, 14]],\n",
       " [[15, 6]],\n",
       " [[8, 6], [4, 15], [18, 9]],\n",
       " [[16, 7], [2, 14]],\n",
       " [[3, 15], [6, 16], [9, 2], [15, 8], [8, 3], [2, 17], [17, 9]],\n",
       " [[18, 1], [8, 12]],\n",
       " [[12, 14], [4, 1], [14, 19], [19, 12], [7, 10]],\n",
       " [[7, 16], [14, 2]],\n",
       " [[9, 14], [6, 7], [11, 4]],\n",
       " [[19, 11], [7, 9], [3, 1], [13, 19], [11, 13]],\n",
       " [[3, 18]],\n",
       " [[15, 1]],\n",
       " [[15, 10], [6, 18]],\n",
       " [[11, 8], [1, 17]],\n",
       " [[3, 4], [13, 14], [17, 18]],\n",
       " [[11, 17]],\n",
       " [[4, 5]],\n",
       " [[18, 2], [15, 5], [4, 8], [16, 4], [8, 16], [10, 18], [2, 10]],\n",
       " [[18, 7]],\n",
       " [[7, 19], [19, 1], [9, 11], [1, 7], [14, 4], [13, 3], [10, 12]],\n",
       " [[13, 2], [7, 15]],\n",
       " [[16, 6], [3, 8], [2, 9], [9, 17], [17, 2], [15, 3], [8, 15]],\n",
       " [[3, 2], [15, 17], [17, 19], [8, 9], [19, 15]],\n",
       " [[6, 9]],\n",
       " [[18, 11]],\n",
       " [[10, 7], [1, 4], [19, 14], [12, 19], [14, 12]],\n",
       " [[9, 15], [19, 2], [18, 4], [10, 16], [17, 3], [2, 8], [8, 19]],\n",
       " [[3, 12], [7, 5], [13, 10]],\n",
       " [[7, 8], [13, 17], [14, 18]],\n",
       " [[17, 14]],\n",
       " [[18, 6], [10, 15]],\n",
       " [[6, 13]],\n",
       " [[18, 15], [2, 6]],\n",
       " [[10, 11], [14, 6]],\n",
       " [[2, 11]],\n",
       " [[18, 17], [4, 3], [14, 13]],\n",
       " [[9, 18], [15, 4], [6, 8]],\n",
       " [[17, 8], [1, 11], [2, 15], [10, 6], [13, 7], [3, 19], [9, 3], [19, 9]],\n",
       " [[6, 17]],\n",
       " [[13, 16]],\n",
       " [[5, 12]],\n",
       " [[14, 8]],\n",
       " [[17, 4]],\n",
       " [[14, 17]],\n",
       " [[18, 14], [8, 7], [17, 13]],\n",
       " [[6, 3]],\n",
       " [[18, 5]],\n",
       " [[5, 11], [10, 1], [1, 14], [12, 7], [14, 10], [7, 4], [4, 12]],\n",
       " [[12, 3], [5, 7], [10, 13]],\n",
       " [[5, 16]],\n",
       " [[14, 3]],\n",
       " [[13, 12], [1, 5]],\n",
       " [[13, 6]],\n",
       " [[13, 15]],\n",
       " [[17, 16], [2, 5]],\n",
       " [[9, 4], [6, 19]],\n",
       " [[12, 9], [5, 13]],\n",
       " [[12, 8], [1, 18]],\n",
       " [[12, 18]],\n",
       " [[5, 6]],\n",
       " [[16, 11]],\n",
       " [[12, 13], [5, 1]],\n",
       " [[13, 5], [9, 12]],\n",
       " [[5, 10]],\n",
       " [[15, 14]],\n",
       " [[8, 11], [17, 1]],\n",
       " [[1, 8]],\n",
       " [[12, 17]],\n",
       " [[4, 9], [19, 6]],\n",
       " [[6, 2], [15, 18]],\n",
       " [[16, 1]],\n",
       " [[11, 16]],\n",
       " [[4, 13]],\n",
       " [[15, 13]],\n",
       " [[16, 5]],\n",
       " [[8, 1]],\n",
       " [[16, 14]],\n",
       " [[11, 2]],\n",
       " [[3, 16], [17, 10], [8, 5]],\n",
       " [[4, 17]],\n",
       " [[19, 5], [3, 10]],\n",
       " [[7, 18]],\n",
       " [[11, 6]],\n",
       " [[1, 2], [12, 16], [11, 15]],\n",
       " [[15, 12]],\n",
       " [[11, 10], [6, 14]],\n",
       " [[3, 6]],\n",
       " [[15, 7], [2, 13]],\n",
       " [[10, 5]],\n",
       " [[7, 17]],\n",
       " [[6, 1], [11, 14]],\n",
       " [[14, 16]],\n",
       " [[17, 12]],\n",
       " [[6, 11]],\n",
       " [[18, 13]],\n",
       " [[17, 7]],\n",
       " [[6, 15]],\n",
       " [[5, 19], [10, 3]],\n",
       " [[14, 15]],\n",
       " [[17, 11]],\n",
       " [[18, 3]],\n",
       " [[18, 12]],\n",
       " [[7, 2]],\n",
       " [[13, 18]],\n",
       " [[5, 14]],\n",
       " [[17, 6]],\n",
       " [[6, 5]],\n",
       " [[9, 16], [17, 5]],\n",
       " [[13, 4]],\n",
       " [[5, 18]],\n",
       " [[14, 5]],\n",
       " [[2, 12]],\n",
       " [[1, 16]],\n",
       " [[13, 8]],\n",
       " [[5, 4]],\n",
       " [[2, 7]],\n",
       " [[5, 17], [16, 9]],\n",
       " [[8, 14]],\n",
       " [[9, 6]],\n",
       " [[12, 2]],\n",
       " [[16, 13]]]"
      ]
     },
     "execution_count": 3,
     "metadata": {},
     "output_type": "execute_result"
    }
   ],
   "source": [
    "eqs = get_constraint_tuples(basis, relations)\n",
    "output_julia(eqs, basis, game_poly, file_name='src/shared_data/input.jl')"
   ]
  },
  {
   "cell_type": "code",
   "execution_count": 4,
   "metadata": {},
   "outputs": [
    {
     "name": "stderr",
     "output_type": "stream",
     "text": [
      "WARNING: using JuMP.@variables in module Main conflicts with an existing identifier.\n"
     ]
    },
    {
     "name": "stdout",
     "output_type": "stream",
     "text": [
      "------------------------------------------------------------------\n",
      "\t       SCS v3.2.6 - Splitting Conic Solver\n",
      "\t(c) Brendan O'Donoghue, Stanford University, 2012\n",
      "------------------------------------------------------------------\n",
      "problem:  variables n: 551, constraints m: 1656\n",
      "cones: \t  z: primal zero / dual free vars: 915\n",
      "\t  s: psd vars: 741, ssize: 1\n",
      "settings: eps_abs: 1.0e-10, eps_rel: 1.0e-10, eps_infeas: 1.0e-10\n",
      "\t  alpha: 1.50, scale: 1.00e-01, adaptive_scale: 1\n",
      "\t  max_iters: 100000, normalize: 1, rho_x: 1.00e-06\n",
      "\t  acceleration_lookback: 10, acceleration_interval: 10\n",
      "\t  compiled with openmp parallelization enabled\n",
      "lin-sys:  sparse-direct-amd-qdldl\n",
      "\t  nnz(A): 2561, nnz(P): 0\n",
      "------------------------------------------------------------------\n",
      " iter | pri res | dua res |   gap   |   obj   |  scale  | time (s)\n",
      "------------------------------------------------------------------\n",
      "     0| 1.41e+01  1.00e+00  2.68e+02 -1.34e+02  1.00e-01  6.96e-02 \n",
      "   250| 1.24e-03  9.75e-06  1.21e-05  6.00e+00  3.56e-01  4.92e-01 \n",
      "   500| 4.24e-06  1.56e-04  8.71e-05  6.00e+00  2.20e+00  8.70e-01 \n",
      "   725| 2.31e-10  1.13e-10  4.58e-13  6.00e+00  2.20e+00  1.28e+00 \n",
      "------------------------------------------------------------------\n",
      "status:  solved\n",
      "timings: total: 1.28e+00s = setup: 3.91e-03s + solve: 1.28e+00s\n",
      "\t lin-sys: 1.00e-01s, cones: 5.73e-01s, accel: 1.25e-02s\n",
      "------------------------------------------------------------------\n",
      "objective = 6.000000\n",
      "------------------------------------------------------------------\n"
     ]
    },
    {
     "data": {
      "text/plain": [
       "0"
      ]
     },
     "execution_count": 4,
     "metadata": {},
     "output_type": "execute_result"
    }
   ],
   "source": [
    "# import julia\n",
    "# j = julia.Julia()\n",
    "# M, game_value = j.include(\"optim.jl\")\n",
    "\n",
    "import os\n",
    "os.system(\"julia src/julia_optim/optim.jl\")"
   ]
  },
  {
   "cell_type": "markdown",
   "metadata": {},
   "source": [
    "# Python manipulation"
   ]
  },
  {
   "cell_type": "code",
   "execution_count": 5,
   "metadata": {},
   "outputs": [],
   "source": [
    "from src.py_utils.clean_read import read_julia_mat, round_coeffs, clean_matrix"
   ]
  },
  {
   "cell_type": "code",
   "execution_count": 6,
   "metadata": {},
   "outputs": [
    {
     "data": {
      "text/latex": [
       "$\\displaystyle 6$"
      ],
      "text/plain": [
       "6"
      ]
     },
     "execution_count": 6,
     "metadata": {},
     "output_type": "execute_result"
    }
   ],
   "source": [
    "mat = read_julia_mat(\"src/shared_data/output.csv\")\n",
    "rc = rounding_coeff\n",
    "mat = clean_matrix(mat.subs({sp.I: (2*w + 1)/np.sqrt(3)}), rc, eps=1e-4).subs(w_to_i)\n",
    "G = (basis_dag * mat * basis)[0].simplify()\n",
    "G = round_coeffs(simplify(G, relations))\n",
    "game_value = simplify(G + gp.subs(w_to_i))\n",
    "game_value"
   ]
  },
  {
   "cell_type": "code",
   "execution_count": 7,
   "metadata": {},
   "outputs": [
    {
     "data": {
      "text/latex": [
       "$\\displaystyle \\left[\\begin{array}{cccccccccccccccccccc}0 & A_{0} & A_{1} & B_{0}^{2} & B_{1}^{2} & B_{0} B_{1} & B_{1} B_{0} & A_{0}^{2} & A_{1}^{2} & B_{0} & B_{1} & A_{0} B_{0} & A_{0} B_{1} & A_{0}^{2} B_{0}^{2} & A_{0}^{2} B_{1}^{2} & A_{1} B_{0} & A_{1} B_{1} & A_{1}^{2} B_{0}^{2} & A_{1}^{2} B_{1}^{2} & 1\\\\A_{0}^{\\dagger} & \\frac{5}{13} & 0 & - \\frac{115}{416} + \\frac{5 \\sqrt{3} i}{96} & - \\frac{115}{416} - \\frac{5 \\sqrt{3} i}{96} & \\frac{5}{208} + \\frac{5 \\sqrt{3} i}{312} & \\frac{5}{208} - \\frac{5 \\sqrt{3} i}{312} & 0 & 0 & 0 & 0 & 0 & 0 & 0 & 0 & 0 & 0 & 0 & 0 & 0\\\\A_{1}^{\\dagger} & 0 & \\frac{5}{13} & - \\frac{115}{416} - \\frac{5 \\sqrt{3} i}{96} & \\frac{45}{208} + \\frac{35 \\sqrt{3} i}{312} & \\frac{5}{416} + \\frac{25 \\sqrt{3} i}{1248} & - \\frac{15}{416} + \\frac{5 \\sqrt{3} i}{1248} & 0 & 0 & 0 & 0 & 0 & 0 & 0 & 0 & 0 & 0 & 0 & 0 & 0\\\\\\left(B_{0}^{\\dagger}\\right)^{2} & - \\frac{115}{416} - \\frac{5 \\sqrt{3} i}{96} & - \\frac{115}{416} + \\frac{5 \\sqrt{3} i}{96} & \\frac{275}{624} & - \\frac{5}{208} + \\frac{5 \\sqrt{3} i}{208} & - \\frac{35}{1248} - \\frac{35 \\sqrt{3} i}{1248} & 0 & 0 & 0 & 0 & 0 & 0 & 0 & 0 & 0 & 0 & 0 & 0 & 0 & 0\\\\\\left(B_{1}^{\\dagger}\\right)^{2} & - \\frac{115}{416} + \\frac{5 \\sqrt{3} i}{96} & \\frac{45}{208} - \\frac{35 \\sqrt{3} i}{312} & - \\frac{5}{208} - \\frac{5 \\sqrt{3} i}{208} & \\frac{275}{624} & 0 & - \\frac{35}{1248} + \\frac{35 \\sqrt{3} i}{1248} & 0 & 0 & 0 & 0 & 0 & 0 & 0 & 0 & 0 & 0 & 0 & 0 & 0\\\\B_{1}^{\\dagger} B_{0}^{\\dagger} & \\frac{5}{208} - \\frac{5 \\sqrt{3} i}{312} & \\frac{5}{416} - \\frac{25 \\sqrt{3} i}{1248} & - \\frac{35}{1248} + \\frac{35 \\sqrt{3} i}{1248} & 0 & \\frac{5}{624} & 0 & 0 & 0 & 0 & 0 & 0 & 0 & 0 & 0 & 0 & 0 & 0 & 0 & 0\\\\B_{0}^{\\dagger} B_{1}^{\\dagger} & \\frac{5}{208} + \\frac{5 \\sqrt{3} i}{312} & - \\frac{15}{416} - \\frac{5 \\sqrt{3} i}{1248} & 0 & - \\frac{35}{1248} - \\frac{35 \\sqrt{3} i}{1248} & 0 & \\frac{5}{624} & 0 & 0 & 0 & 0 & 0 & 0 & 0 & 0 & 0 & 0 & 0 & 0 & 0\\\\\\left(A_{0}^{\\dagger}\\right)^{2} & 0 & 0 & 0 & 0 & 0 & 0 & 0 & 0 & 0 & 0 & 0 & 0 & 0 & 0 & 0 & 0 & 0 & 0 & 0\\\\\\left(A_{1}^{\\dagger}\\right)^{2} & 0 & 0 & 0 & 0 & 0 & 0 & 0 & 0 & 0 & 0 & 0 & 0 & 0 & 0 & 0 & 0 & 0 & 0 & 0\\\\B_{0}^{\\dagger} & 0 & 0 & 0 & 0 & 0 & 0 & 0 & 0 & 0 & 0 & 0 & 0 & 0 & 0 & 0 & 0 & 0 & 0 & 0\\\\B_{1}^{\\dagger} & 0 & 0 & 0 & 0 & 0 & 0 & 0 & 0 & 0 & 0 & 0 & 0 & 0 & 0 & 0 & 0 & 0 & 0 & 0\\\\B_{0}^{\\dagger} A_{0}^{\\dagger} & 0 & 0 & 0 & 0 & 0 & 0 & 0 & 0 & 0 & 0 & \\frac{217}{624} & \\frac{395}{1248} - \\frac{85 \\sqrt{3} i}{1248} & \\frac{3}{416} + \\frac{5 \\sqrt{3} i}{96} & - \\frac{5}{208} - \\frac{5 \\sqrt{3} i}{312} & 0 & 0 & 0 & 0 & - \\frac{101}{208} + \\frac{5 \\sqrt{3} i}{208}\\\\B_{1}^{\\dagger} A_{0}^{\\dagger} & 0 & 0 & 0 & 0 & 0 & 0 & 0 & 0 & 0 & 0 & \\frac{395}{1248} + \\frac{85 \\sqrt{3} i}{1248} & \\frac{217}{624} & - \\frac{5}{208} + \\frac{5 \\sqrt{3} i}{312} & \\frac{3}{416} - \\frac{5 \\sqrt{3} i}{96} & 0 & 0 & 0 & 0 & - \\frac{101}{208} - \\frac{5 \\sqrt{3} i}{208}\\\\\\left(B_{0}^{\\dagger}\\right)^{2} \\left(A_{0}^{\\dagger}\\right)^{2} & 0 & 0 & 0 & 0 & 0 & 0 & 0 & 0 & 0 & 0 & \\frac{3}{416} - \\frac{5 \\sqrt{3} i}{96} & - \\frac{5}{208} - \\frac{5 \\sqrt{3} i}{312} & \\frac{3}{16} & \\frac{5}{32} + \\frac{15 \\sqrt{3} i}{416} & 0 & 0 & 0 & 0 & - \\frac{51}{208} + \\frac{5 \\sqrt{3} i}{208}\\\\\\left(B_{1}^{\\dagger}\\right)^{2} \\left(A_{0}^{\\dagger}\\right)^{2} & 0 & 0 & 0 & 0 & 0 & 0 & 0 & 0 & 0 & 0 & - \\frac{5}{208} + \\frac{5 \\sqrt{3} i}{312} & \\frac{3}{416} + \\frac{5 \\sqrt{3} i}{96} & \\frac{5}{32} - \\frac{15 \\sqrt{3} i}{416} & \\frac{3}{16} & 0 & 0 & 0 & 0 & - \\frac{51}{208} - \\frac{5 \\sqrt{3} i}{208}\\\\B_{0}^{\\dagger} A_{1}^{\\dagger} & 0 & 0 & 0 & 0 & 0 & 0 & 0 & 0 & 0 & 0 & 0 & 0 & 0 & 0 & \\frac{217}{624} & - \\frac{25}{96} + \\frac{155 \\sqrt{3} i}{1248} & \\frac{3}{416} - \\frac{5 \\sqrt{3} i}{96} & \\frac{15}{416} + \\frac{5 \\sqrt{3} i}{1248} & - \\frac{101}{208} - \\frac{5 \\sqrt{3} i}{208}\\\\B_{1}^{\\dagger} A_{1}^{\\dagger} & 0 & 0 & 0 & 0 & 0 & 0 & 0 & 0 & 0 & 0 & 0 & 0 & 0 & 0 & - \\frac{25}{96} - \\frac{155 \\sqrt{3} i}{1248} & \\frac{217}{624} & - \\frac{5}{416} + \\frac{25 \\sqrt{3} i}{1248} & - \\frac{17}{208} - \\frac{7 \\sqrt{3} i}{312} & \\frac{29}{104} + \\frac{3 \\sqrt{3} i}{13}\\\\\\left(B_{0}^{\\dagger}\\right)^{2} \\left(A_{1}^{\\dagger}\\right)^{2} & 0 & 0 & 0 & 0 & 0 & 0 & 0 & 0 & 0 & 0 & 0 & 0 & 0 & 0 & \\frac{3}{416} + \\frac{5 \\sqrt{3} i}{96} & - \\frac{5}{416} - \\frac{25 \\sqrt{3} i}{1248} & \\frac{3}{16} & - \\frac{55}{416} - \\frac{25 \\sqrt{3} i}{416} & - \\frac{51}{208} - \\frac{5 \\sqrt{3} i}{208}\\\\\\left(B_{1}^{\\dagger}\\right)^{2} \\left(A_{1}^{\\dagger}\\right)^{2} & 0 & 0 & 0 & 0 & 0 & 0 & 0 & 0 & 0 & 0 & 0 & 0 & 0 & 0 & \\frac{15}{416} - \\frac{5 \\sqrt{3} i}{1248} & - \\frac{17}{208} + \\frac{7 \\sqrt{3} i}{312} & - \\frac{55}{416} + \\frac{25 \\sqrt{3} i}{416} & \\frac{3}{16} & \\frac{9}{104} - \\frac{7 \\sqrt{3} i}{52}\\\\1 & 0 & 0 & 0 & 0 & 0 & 0 & 0 & 0 & 0 & 0 & - \\frac{101}{208} - \\frac{5 \\sqrt{3} i}{208} & - \\frac{101}{208} + \\frac{5 \\sqrt{3} i}{208} & - \\frac{51}{208} - \\frac{5 \\sqrt{3} i}{208} & - \\frac{51}{208} + \\frac{5 \\sqrt{3} i}{208} & - \\frac{101}{208} + \\frac{5 \\sqrt{3} i}{208} & \\frac{29}{104} - \\frac{3 \\sqrt{3} i}{13} & - \\frac{51}{208} + \\frac{5 \\sqrt{3} i}{208} & \\frac{9}{104} + \\frac{7 \\sqrt{3} i}{52} & \\frac{57}{26}\\end{array}\\right]$"
      ],
      "text/plain": [
       "Matrix([\n",
       "[                            0,                        A0,                         A1,                        B0**2,                        B1**2,                        B0*B1,                        B1*B0, A0**2, A1**2, B0, B1,                        A0*B0,                        A0*B1,               A0**2*B0**2,               A0**2*B1**2,                       A1*B0,                       A1*B1,                A1**2*B0**2,                A1**2*B1**2,                          1],\n",
       "[                  adjoint(A0),                      5/13,                          0,    -115/416 + 5*sqrt(3)*I/96,    -115/416 - 5*sqrt(3)*I/96,      5/208 + 5*sqrt(3)*I/312,      5/208 - 5*sqrt(3)*I/312,     0,     0,  0,  0,                            0,                            0,                         0,                         0,                           0,                           0,                          0,                          0,                          0],\n",
       "[                  adjoint(A1),                         0,                       5/13,    -115/416 - 5*sqrt(3)*I/96,    45/208 + 35*sqrt(3)*I/312,    5/416 + 25*sqrt(3)*I/1248,   -15/416 + 5*sqrt(3)*I/1248,     0,     0,  0,  0,                            0,                            0,                         0,                         0,                           0,                           0,                          0,                          0,                          0],\n",
       "[               adjoint(B0)**2, -115/416 - 5*sqrt(3)*I/96,  -115/416 + 5*sqrt(3)*I/96,                      275/624,     -5/208 + 5*sqrt(3)*I/208, -35/1248 - 35*sqrt(3)*I/1248,                            0,     0,     0,  0,  0,                            0,                            0,                         0,                         0,                           0,                           0,                          0,                          0,                          0],\n",
       "[               adjoint(B1)**2, -115/416 + 5*sqrt(3)*I/96,  45/208 - 35*sqrt(3)*I/312,     -5/208 - 5*sqrt(3)*I/208,                      275/624,                            0, -35/1248 + 35*sqrt(3)*I/1248,     0,     0,  0,  0,                            0,                            0,                         0,                         0,                           0,                           0,                          0,                          0,                          0],\n",
       "[      adjoint(B1)*adjoint(B0),   5/208 - 5*sqrt(3)*I/312,  5/416 - 25*sqrt(3)*I/1248, -35/1248 + 35*sqrt(3)*I/1248,                            0,                        5/624,                            0,     0,     0,  0,  0,                            0,                            0,                         0,                         0,                           0,                           0,                          0,                          0,                          0],\n",
       "[      adjoint(B0)*adjoint(B1),   5/208 + 5*sqrt(3)*I/312, -15/416 - 5*sqrt(3)*I/1248,                            0, -35/1248 - 35*sqrt(3)*I/1248,                            0,                        5/624,     0,     0,  0,  0,                            0,                            0,                         0,                         0,                           0,                           0,                          0,                          0,                          0],\n",
       "[               adjoint(A0)**2,                         0,                          0,                            0,                            0,                            0,                            0,     0,     0,  0,  0,                            0,                            0,                         0,                         0,                           0,                           0,                          0,                          0,                          0],\n",
       "[               adjoint(A1)**2,                         0,                          0,                            0,                            0,                            0,                            0,     0,     0,  0,  0,                            0,                            0,                         0,                         0,                           0,                           0,                          0,                          0,                          0],\n",
       "[                  adjoint(B0),                         0,                          0,                            0,                            0,                            0,                            0,     0,     0,  0,  0,                            0,                            0,                         0,                         0,                           0,                           0,                          0,                          0,                          0],\n",
       "[                  adjoint(B1),                         0,                          0,                            0,                            0,                            0,                            0,     0,     0,  0,  0,                            0,                            0,                         0,                         0,                           0,                           0,                          0,                          0,                          0],\n",
       "[      adjoint(B0)*adjoint(A0),                         0,                          0,                            0,                            0,                            0,                            0,     0,     0,  0,  0,                      217/624, 395/1248 - 85*sqrt(3)*I/1248,    3/416 + 5*sqrt(3)*I/96,  -5/208 - 5*sqrt(3)*I/312,                           0,                           0,                          0,                          0, -101/208 + 5*sqrt(3)*I/208],\n",
       "[      adjoint(B1)*adjoint(A0),                         0,                          0,                            0,                            0,                            0,                            0,     0,     0,  0,  0, 395/1248 + 85*sqrt(3)*I/1248,                      217/624,  -5/208 + 5*sqrt(3)*I/312,    3/416 - 5*sqrt(3)*I/96,                           0,                           0,                          0,                          0, -101/208 - 5*sqrt(3)*I/208],\n",
       "[adjoint(B0)**2*adjoint(A0)**2,                         0,                          0,                            0,                            0,                            0,                            0,     0,     0,  0,  0,       3/416 - 5*sqrt(3)*I/96,     -5/208 - 5*sqrt(3)*I/312,                      3/16,   5/32 + 15*sqrt(3)*I/416,                           0,                           0,                          0,                          0,  -51/208 + 5*sqrt(3)*I/208],\n",
       "[adjoint(B1)**2*adjoint(A0)**2,                         0,                          0,                            0,                            0,                            0,                            0,     0,     0,  0,  0,     -5/208 + 5*sqrt(3)*I/312,       3/416 + 5*sqrt(3)*I/96,   5/32 - 15*sqrt(3)*I/416,                      3/16,                           0,                           0,                          0,                          0,  -51/208 - 5*sqrt(3)*I/208],\n",
       "[      adjoint(B0)*adjoint(A1),                         0,                          0,                            0,                            0,                            0,                            0,     0,     0,  0,  0,                            0,                            0,                         0,                         0,                     217/624, -25/96 + 155*sqrt(3)*I/1248,     3/416 - 5*sqrt(3)*I/96,  15/416 + 5*sqrt(3)*I/1248, -101/208 - 5*sqrt(3)*I/208],\n",
       "[      adjoint(B1)*adjoint(A1),                         0,                          0,                            0,                            0,                            0,                            0,     0,     0,  0,  0,                            0,                            0,                         0,                         0, -25/96 - 155*sqrt(3)*I/1248,                     217/624, -5/416 + 25*sqrt(3)*I/1248,  -17/208 - 7*sqrt(3)*I/312,    29/104 + 3*sqrt(3)*I/13],\n",
       "[adjoint(B0)**2*adjoint(A1)**2,                         0,                          0,                            0,                            0,                            0,                            0,     0,     0,  0,  0,                            0,                            0,                         0,                         0,      3/416 + 5*sqrt(3)*I/96,  -5/416 - 25*sqrt(3)*I/1248,                       3/16, -55/416 - 25*sqrt(3)*I/416,  -51/208 - 5*sqrt(3)*I/208],\n",
       "[adjoint(B1)**2*adjoint(A1)**2,                         0,                          0,                            0,                            0,                            0,                            0,     0,     0,  0,  0,                            0,                            0,                         0,                         0,   15/416 - 5*sqrt(3)*I/1248,   -17/208 + 7*sqrt(3)*I/312, -55/416 + 25*sqrt(3)*I/416,                       3/16,     9/104 - 7*sqrt(3)*I/52],\n",
       "[                            1,                         0,                          0,                            0,                            0,                            0,                            0,     0,     0,  0,  0,   -101/208 - 5*sqrt(3)*I/208,   -101/208 + 5*sqrt(3)*I/208, -51/208 - 5*sqrt(3)*I/208, -51/208 + 5*sqrt(3)*I/208,  -101/208 + 5*sqrt(3)*I/208,     29/104 - 3*sqrt(3)*I/13,  -51/208 + 5*sqrt(3)*I/208,     9/104 + 7*sqrt(3)*I/52,                      57/26]])"
      ]
     },
     "execution_count": 7,
     "metadata": {},
     "output_type": "execute_result"
    }
   ],
   "source": [
    "disp(mat)"
   ]
  },
  {
   "cell_type": "code",
   "execution_count": 8,
   "metadata": {},
   "outputs": [],
   "source": [
    "import pickle \n",
    "with open('src/shared_data/SoS_mat.pkl', 'wb') as f:\n",
    "    pickle.dump(mat, f)"
   ]
  },
  {
   "cell_type": "markdown",
   "metadata": {},
   "source": [
    "# Getting into SoS Form"
   ]
  },
  {
   "cell_type": "code",
   "execution_count": 9,
   "metadata": {},
   "outputs": [],
   "source": [
    "from src.SoS_utils.lu_utils import fast_symbolic_ldl\n",
    "from src.SoS_utils.SoS import SoS_term, SoS_expr"
   ]
  },
  {
   "cell_type": "code",
   "execution_count": 10,
   "metadata": {},
   "outputs": [],
   "source": [
    "l, d = fast_symbolic_ldl(mat)\n",
    "sos = SoS_expr.from_Ucb(l.adjoint(), d, basis, relations)"
   ]
  },
  {
   "cell_type": "code",
   "execution_count": 12,
   "metadata": {},
   "outputs": [],
   "source": [
    "assert simplify(sos.simplification + gp.subs(w_to_i) - game_value) == 0\n",
    "with open(\"SoS.pkl\", \"wb\") as f:\n",
    "    pickle.dump(sos, f)"
   ]
  },
  {
   "cell_type": "code",
   "execution_count": null,
   "metadata": {},
   "outputs": [],
   "source": []
  }
 ],
 "metadata": {
  "kernelspec": {
   "display_name": "env42",
   "language": "python",
   "name": "python3"
  },
  "language_info": {
   "codemirror_mode": {
    "name": "ipython",
    "version": 3
   },
   "file_extension": ".py",
   "mimetype": "text/x-python",
   "name": "python",
   "nbconvert_exporter": "python",
   "pygments_lexer": "ipython3",
   "version": "3.12.2"
  }
 },
 "nbformat": 4,
 "nbformat_minor": 2
}
